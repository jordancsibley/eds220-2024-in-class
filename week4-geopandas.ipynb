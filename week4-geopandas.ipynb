{
 "cells": [
  {
   "cell_type": "markdown",
   "id": "63bf98f9-157f-483f-b200-21cf42a7efd6",
   "metadata": {},
   "source": [
    "# Week 4 - Geopandas \n",
    "\n",
    "### Working with geospatial data \n",
    "\n",
    "[Link to lesson](https://meds-eds-220.github.io/MEDS-eds-220-course/book/chapters/lesson-10-geopandas-intro/lesson-10-geopandas-intro.html)\n",
    "\n",
    "Date: 2024-10-23\n",
    "\n",
    "\n",
    "## About the data \n",
    "\n",
    "Wild pigs (Sus scrofa) are a destructive invasive species in California. In this lesson we will use simplified point data about wild pig sightings in California from the Global Biodiversity Information Facility (GBIF).\n",
    "\n",
    "## Reproducible file paths \n",
    "\n",
    "Import packages: "
   ]
  },
  {
   "cell_type": "code",
   "execution_count": 1,
   "id": "55f492f4-d4a4-467a-b691-40985f6a180a",
   "metadata": {
    "tags": []
   },
   "outputs": [],
   "source": [
    "import os # operating system \n",
    "import geopandas as gpd \n",
    "import matplotlib.pyplot as plt "
   ]
  },
  {
   "cell_type": "markdown",
   "id": "7d8a298f-bfce-4734-92b1-e9dc8e99585b",
   "metadata": {},
   "source": [
    "Use the `os` package to create a reporducible file path \n",
    "\n",
    "- If you use `' ', ' '` this to give the file path, it shouldn't break for Mac or Linux systems. \n",
    "- This avoids errors and makes your code more portable "
   ]
  },
  {
   "cell_type": "code",
   "execution_count": 4,
   "id": "00244894-2490-464f-acf4-f75b09d08455",
   "metadata": {
    "tags": []
   },
   "outputs": [
    {
     "data": {
      "text/plain": [
       "'data/gbif_sus_scrofa_california/gbif_sus_scrofa_california.shp'"
      ]
     },
     "execution_count": 4,
     "metadata": {},
     "output_type": "execute_result"
    }
   ],
   "source": [
    "fp = os.path.join('data','gbif_sus_scrofa_california','gbif_sus_scrofa_california.shp')\n",
    "fp"
   ]
  },
  {
   "cell_type": "markdown",
   "id": "15934a34-0c30-4eb3-b19e-a1b652d331d7",
   "metadata": {},
   "source": [
    "We can then use this file path to read in a shapefile with geopandas by using the `geopandas.read_file()` function:"
   ]
  },
  {
   "cell_type": "code",
   "execution_count": 5,
   "id": "96dc6d85-496f-486c-ab11-f0c4491c992a",
   "metadata": {
    "tags": []
   },
   "outputs": [
    {
     "name": "stderr",
     "output_type": "stream",
     "text": [
      "ERROR 1: PROJ: proj_create_from_database: Open of /opt/anaconda3/share/proj failed\n"
     ]
    },
    {
     "data": {
      "text/html": [
       "<div>\n",
       "<style scoped>\n",
       "    .dataframe tbody tr th:only-of-type {\n",
       "        vertical-align: middle;\n",
       "    }\n",
       "\n",
       "    .dataframe tbody tr th {\n",
       "        vertical-align: top;\n",
       "    }\n",
       "\n",
       "    .dataframe thead th {\n",
       "        text-align: right;\n",
       "    }\n",
       "</style>\n",
       "<table border=\"1\" class=\"dataframe\">\n",
       "  <thead>\n",
       "    <tr style=\"text-align: right;\">\n",
       "      <th></th>\n",
       "      <th>gbifID</th>\n",
       "      <th>species</th>\n",
       "      <th>state</th>\n",
       "      <th>individual</th>\n",
       "      <th>day</th>\n",
       "      <th>month</th>\n",
       "      <th>year</th>\n",
       "      <th>inst</th>\n",
       "      <th>collection</th>\n",
       "      <th>catalogNum</th>\n",
       "      <th>identified</th>\n",
       "      <th>geometry</th>\n",
       "    </tr>\n",
       "  </thead>\n",
       "  <tbody>\n",
       "    <tr>\n",
       "      <th>0</th>\n",
       "      <td>899953814</td>\n",
       "      <td>Sus scrofa</td>\n",
       "      <td>California</td>\n",
       "      <td>NaN</td>\n",
       "      <td>22.0</td>\n",
       "      <td>3.0</td>\n",
       "      <td>2014.0</td>\n",
       "      <td>iNaturalist</td>\n",
       "      <td>Observations</td>\n",
       "      <td>581956</td>\n",
       "      <td>edwardrooks</td>\n",
       "      <td>POINT (-121.53812 37.08846)</td>\n",
       "    </tr>\n",
       "    <tr>\n",
       "      <th>1</th>\n",
       "      <td>899951348</td>\n",
       "      <td>Sus scrofa</td>\n",
       "      <td>California</td>\n",
       "      <td>NaN</td>\n",
       "      <td>9.0</td>\n",
       "      <td>6.0</td>\n",
       "      <td>2007.0</td>\n",
       "      <td>iNaturalist</td>\n",
       "      <td>Observations</td>\n",
       "      <td>576047</td>\n",
       "      <td>Bruce Freeman</td>\n",
       "      <td>POINT (-120.54942 35.47354)</td>\n",
       "    </tr>\n",
       "    <tr>\n",
       "      <th>2</th>\n",
       "      <td>896560733</td>\n",
       "      <td>Sus scrofa</td>\n",
       "      <td>California</td>\n",
       "      <td>NaN</td>\n",
       "      <td>20.0</td>\n",
       "      <td>12.0</td>\n",
       "      <td>1937.0</td>\n",
       "      <td>MVZ</td>\n",
       "      <td>Hild</td>\n",
       "      <td>MVZ:Hild:195</td>\n",
       "      <td>Museum of Vertebrate Zoology, University of Ca...</td>\n",
       "      <td>POINT (-122.27063 37.87610)</td>\n",
       "    </tr>\n",
       "    <tr>\n",
       "      <th>3</th>\n",
       "      <td>896559958</td>\n",
       "      <td>Sus scrofa</td>\n",
       "      <td>California</td>\n",
       "      <td>NaN</td>\n",
       "      <td>1.0</td>\n",
       "      <td>4.0</td>\n",
       "      <td>1969.0</td>\n",
       "      <td>MVZ</td>\n",
       "      <td>Hild</td>\n",
       "      <td>MVZ:Hild:1213</td>\n",
       "      <td>Museum of Vertebrate Zoology, University of Ca...</td>\n",
       "      <td>POINT (-121.82297 38.44543)</td>\n",
       "    </tr>\n",
       "    <tr>\n",
       "      <th>4</th>\n",
       "      <td>896559722</td>\n",
       "      <td>Sus scrofa</td>\n",
       "      <td>California</td>\n",
       "      <td>NaN</td>\n",
       "      <td>1.0</td>\n",
       "      <td>1.0</td>\n",
       "      <td>1961.0</td>\n",
       "      <td>MVZ</td>\n",
       "      <td>Hild</td>\n",
       "      <td>MVZ:Hild:1004</td>\n",
       "      <td>Museum of Vertebrate Zoology, University of Ca...</td>\n",
       "      <td>POINT (-121.74559 38.54882)</td>\n",
       "    </tr>\n",
       "  </tbody>\n",
       "</table>\n",
       "</div>"
      ],
      "text/plain": [
       "      gbifID     species       state  individual   day  month    year  \\\n",
       "0  899953814  Sus scrofa  California         NaN  22.0    3.0  2014.0   \n",
       "1  899951348  Sus scrofa  California         NaN   9.0    6.0  2007.0   \n",
       "2  896560733  Sus scrofa  California         NaN  20.0   12.0  1937.0   \n",
       "3  896559958  Sus scrofa  California         NaN   1.0    4.0  1969.0   \n",
       "4  896559722  Sus scrofa  California         NaN   1.0    1.0  1961.0   \n",
       "\n",
       "          inst    collection     catalogNum  \\\n",
       "0  iNaturalist  Observations         581956   \n",
       "1  iNaturalist  Observations         576047   \n",
       "2          MVZ          Hild   MVZ:Hild:195   \n",
       "3          MVZ          Hild  MVZ:Hild:1213   \n",
       "4          MVZ          Hild  MVZ:Hild:1004   \n",
       "\n",
       "                                          identified  \\\n",
       "0                                        edwardrooks   \n",
       "1                                      Bruce Freeman   \n",
       "2  Museum of Vertebrate Zoology, University of Ca...   \n",
       "3  Museum of Vertebrate Zoology, University of Ca...   \n",
       "4  Museum of Vertebrate Zoology, University of Ca...   \n",
       "\n",
       "                      geometry  \n",
       "0  POINT (-121.53812 37.08846)  \n",
       "1  POINT (-120.54942 35.47354)  \n",
       "2  POINT (-122.27063 37.87610)  \n",
       "3  POINT (-121.82297 38.44543)  \n",
       "4  POINT (-121.74559 38.54882)  "
      ]
     },
     "execution_count": 5,
     "metadata": {},
     "output_type": "execute_result"
    }
   ],
   "source": [
    "pigs = gpd.read_file(fp)\n",
    "pigs.head()"
   ]
  },
  {
   "cell_type": "code",
   "execution_count": 7,
   "id": "0400e356-e19a-472b-ae1a-6f92886b74ae",
   "metadata": {
    "tags": []
   },
   "outputs": [
    {
     "data": {
      "text/html": [
       "<div>\n",
       "<style scoped>\n",
       "    .dataframe tbody tr th:only-of-type {\n",
       "        vertical-align: middle;\n",
       "    }\n",
       "\n",
       "    .dataframe tbody tr th {\n",
       "        vertical-align: top;\n",
       "    }\n",
       "\n",
       "    .dataframe thead th {\n",
       "        text-align: right;\n",
       "    }\n",
       "</style>\n",
       "<table border=\"1\" class=\"dataframe\">\n",
       "  <thead>\n",
       "    <tr style=\"text-align: right;\">\n",
       "      <th></th>\n",
       "      <th>REGION</th>\n",
       "      <th>DIVISION</th>\n",
       "      <th>STATEFP</th>\n",
       "      <th>STATENS</th>\n",
       "      <th>GEOID</th>\n",
       "      <th>STUSPS</th>\n",
       "      <th>NAME</th>\n",
       "      <th>LSAD</th>\n",
       "      <th>MTFCC</th>\n",
       "      <th>FUNCSTAT</th>\n",
       "      <th>ALAND</th>\n",
       "      <th>AWATER</th>\n",
       "      <th>INTPTLAT</th>\n",
       "      <th>INTPTLON</th>\n",
       "      <th>geometry</th>\n",
       "    </tr>\n",
       "  </thead>\n",
       "  <tbody>\n",
       "    <tr>\n",
       "      <th>0</th>\n",
       "      <td>4</td>\n",
       "      <td>9</td>\n",
       "      <td>06</td>\n",
       "      <td>01779778</td>\n",
       "      <td>06</td>\n",
       "      <td>CA</td>\n",
       "      <td>California</td>\n",
       "      <td>00</td>\n",
       "      <td>G4000</td>\n",
       "      <td>A</td>\n",
       "      <td>403501101370</td>\n",
       "      <td>20466718403</td>\n",
       "      <td>+37.1551773</td>\n",
       "      <td>-119.5434183</td>\n",
       "      <td>MULTIPOLYGON (((-119.63473 33.26545, -119.6363...</td>\n",
       "    </tr>\n",
       "  </tbody>\n",
       "</table>\n",
       "</div>"
      ],
      "text/plain": [
       "  REGION DIVISION STATEFP   STATENS GEOID STUSPS        NAME LSAD  MTFCC  \\\n",
       "0      4        9      06  01779778    06     CA  California   00  G4000   \n",
       "\n",
       "  FUNCSTAT         ALAND       AWATER     INTPTLAT      INTPTLON  \\\n",
       "0        A  403501101370  20466718403  +37.1551773  -119.5434183   \n",
       "\n",
       "                                            geometry  \n",
       "0  MULTIPOLYGON (((-119.63473 33.26545, -119.6363...  "
      ]
     },
     "execution_count": 7,
     "metadata": {},
     "output_type": "execute_result"
    }
   ],
   "source": [
    "fp = os.path.join('data','ca_boundary', 'ca_state_boundary.shp')\n",
    "ca_boundary = gpd.read_file(fp)\n",
    "ca_boundary"
   ]
  },
  {
   "cell_type": "markdown",
   "id": "241407dd-a70f-4610-a5e4-c32d5bdea09b",
   "metadata": {},
   "source": [
    "Even though we only read in the `.shp` file, we need all the other file types in the same folder in order for it to work.\n",
    "\n",
    "\n",
    "## `GeoSeries` and `GeoDataFrame`\n",
    "\n",
    "The **geometry column** in a `geopandas.GeoDataFrame` holds the geometry (point, polygon, etc) of each spatial feature. This geometry column is of type `geopandas.GeoSeries`. \n",
    "\n",
    "\n",
    "Columns in the `geopandas.GeoDataFrame` with attributes about the features are `pandas.Series` like in a regular `pandas.DataFrame`.\n",
    "\n",
    "### Example\n",
    "\n",
    "Notice the `geometry` column in the `pigs` geo-dataframe:"
   ]
  },
  {
   "cell_type": "code",
   "execution_count": 8,
   "id": "57218eeb-faf0-4ddf-96e5-81cd8b0456a2",
   "metadata": {
    "tags": []
   },
   "outputs": [
    {
     "data": {
      "text/html": [
       "<div>\n",
       "<style scoped>\n",
       "    .dataframe tbody tr th:only-of-type {\n",
       "        vertical-align: middle;\n",
       "    }\n",
       "\n",
       "    .dataframe tbody tr th {\n",
       "        vertical-align: top;\n",
       "    }\n",
       "\n",
       "    .dataframe thead th {\n",
       "        text-align: right;\n",
       "    }\n",
       "</style>\n",
       "<table border=\"1\" class=\"dataframe\">\n",
       "  <thead>\n",
       "    <tr style=\"text-align: right;\">\n",
       "      <th></th>\n",
       "      <th>gbifID</th>\n",
       "      <th>species</th>\n",
       "      <th>state</th>\n",
       "      <th>individual</th>\n",
       "      <th>day</th>\n",
       "      <th>month</th>\n",
       "      <th>year</th>\n",
       "      <th>inst</th>\n",
       "      <th>collection</th>\n",
       "      <th>catalogNum</th>\n",
       "      <th>identified</th>\n",
       "      <th>geometry</th>\n",
       "    </tr>\n",
       "  </thead>\n",
       "  <tbody>\n",
       "    <tr>\n",
       "      <th>0</th>\n",
       "      <td>899953814</td>\n",
       "      <td>Sus scrofa</td>\n",
       "      <td>California</td>\n",
       "      <td>NaN</td>\n",
       "      <td>22.0</td>\n",
       "      <td>3.0</td>\n",
       "      <td>2014.0</td>\n",
       "      <td>iNaturalist</td>\n",
       "      <td>Observations</td>\n",
       "      <td>581956</td>\n",
       "      <td>edwardrooks</td>\n",
       "      <td>POINT (-121.53812 37.08846)</td>\n",
       "    </tr>\n",
       "    <tr>\n",
       "      <th>1</th>\n",
       "      <td>899951348</td>\n",
       "      <td>Sus scrofa</td>\n",
       "      <td>California</td>\n",
       "      <td>NaN</td>\n",
       "      <td>9.0</td>\n",
       "      <td>6.0</td>\n",
       "      <td>2007.0</td>\n",
       "      <td>iNaturalist</td>\n",
       "      <td>Observations</td>\n",
       "      <td>576047</td>\n",
       "      <td>Bruce Freeman</td>\n",
       "      <td>POINT (-120.54942 35.47354)</td>\n",
       "    </tr>\n",
       "    <tr>\n",
       "      <th>2</th>\n",
       "      <td>896560733</td>\n",
       "      <td>Sus scrofa</td>\n",
       "      <td>California</td>\n",
       "      <td>NaN</td>\n",
       "      <td>20.0</td>\n",
       "      <td>12.0</td>\n",
       "      <td>1937.0</td>\n",
       "      <td>MVZ</td>\n",
       "      <td>Hild</td>\n",
       "      <td>MVZ:Hild:195</td>\n",
       "      <td>Museum of Vertebrate Zoology, University of Ca...</td>\n",
       "      <td>POINT (-122.27063 37.87610)</td>\n",
       "    </tr>\n",
       "  </tbody>\n",
       "</table>\n",
       "</div>"
      ],
      "text/plain": [
       "      gbifID     species       state  individual   day  month    year  \\\n",
       "0  899953814  Sus scrofa  California         NaN  22.0    3.0  2014.0   \n",
       "1  899951348  Sus scrofa  California         NaN   9.0    6.0  2007.0   \n",
       "2  896560733  Sus scrofa  California         NaN  20.0   12.0  1937.0   \n",
       "\n",
       "          inst    collection    catalogNum  \\\n",
       "0  iNaturalist  Observations        581956   \n",
       "1  iNaturalist  Observations        576047   \n",
       "2          MVZ          Hild  MVZ:Hild:195   \n",
       "\n",
       "                                          identified  \\\n",
       "0                                        edwardrooks   \n",
       "1                                      Bruce Freeman   \n",
       "2  Museum of Vertebrate Zoology, University of Ca...   \n",
       "\n",
       "                      geometry  \n",
       "0  POINT (-121.53812 37.08846)  \n",
       "1  POINT (-120.54942 35.47354)  \n",
       "2  POINT (-122.27063 37.87610)  "
      ]
     },
     "execution_count": 8,
     "metadata": {},
     "output_type": "execute_result"
    }
   ],
   "source": [
    "pigs.head(3)"
   ]
  },
  {
   "cell_type": "code",
   "execution_count": 10,
   "id": "b5dda7c2-4cca-45b3-a405-e16355b70b62",
   "metadata": {
    "tags": []
   },
   "outputs": [
    {
     "name": "stdout",
     "output_type": "stream",
     "text": [
      "<class 'geopandas.geodataframe.GeoDataFrame'>\n",
      "<class 'geopandas.geoseries.GeoSeries'>\n",
      "<class 'pandas.core.series.Series'>\n"
     ]
    }
   ],
   "source": [
    "# Check what type of object is pigs \n",
    "print(type(pigs))\n",
    "\n",
    "# Check what kind of object is the geometry column \n",
    "print(type(pigs.geometry))\n",
    "\n",
    "# Check what kind of object is the species column \n",
    "print(type(pigs.species))"
   ]
  },
  {
   "cell_type": "markdown",
   "id": "0519ed84-d6cf-4a44-9195-aad1dc611974",
   "metadata": {},
   "source": [
    "The data type of the geometry column is also reflected when we look at the data types of the values in each column:"
   ]
  },
  {
   "cell_type": "code",
   "execution_count": 11,
   "id": "95469801-f77a-476b-b83e-669f10c45d80",
   "metadata": {
    "tags": []
   },
   "outputs": [
    {
     "data": {
      "text/plain": [
       "gbifID           int64\n",
       "species         object\n",
       "state           object\n",
       "individual     float64\n",
       "day            float64\n",
       "month          float64\n",
       "year           float64\n",
       "inst            object\n",
       "collection      object\n",
       "catalogNum      object\n",
       "identified      object\n",
       "geometry      geometry\n",
       "dtype: object"
      ]
     },
     "execution_count": 11,
     "metadata": {},
     "output_type": "execute_result"
    }
   ],
   "source": [
    "pigs.dtypes"
   ]
  },
  {
   "cell_type": "code",
   "execution_count": 12,
   "id": "ffecfae3-063f-494b-9a2e-e5a4651b6a41",
   "metadata": {
    "tags": []
   },
   "outputs": [
    {
     "data": {
      "text/plain": [
       "0       Point\n",
       "1       Point\n",
       "2       Point\n",
       "3       Point\n",
       "4       Point\n",
       "        ...  \n",
       "1041    Point\n",
       "1042    Point\n",
       "1043    Point\n",
       "1044    Point\n",
       "1045    Point\n",
       "Length: 1046, dtype: object"
      ]
     },
     "execution_count": 12,
     "metadata": {},
     "output_type": "execute_result"
    }
   ],
   "source": [
    "# Check the geomtry type of each element in the geometry column \n",
    "pigs.geom_type"
   ]
  },
  {
   "cell_type": "markdown",
   "id": "648fd361-4bc5-4e74-a769-b0f126b7d6ca",
   "metadata": {},
   "source": [
    "### Check in \n",
    "What is the geom type of the single feature in the CA state boundary? And why does it make sense to have this type of geometry? "
   ]
  },
  {
   "cell_type": "code",
   "execution_count": 13,
   "id": "51a2fd7e-41b4-4f4e-bdb4-788fdbe88417",
   "metadata": {
    "tags": []
   },
   "outputs": [
    {
     "data": {
      "text/plain": [
       "0    MultiPolygon\n",
       "dtype: object"
      ]
     },
     "execution_count": 13,
     "metadata": {},
     "output_type": "execute_result"
    }
   ],
   "source": [
    "ca_boundary.geom_type"
   ]
  },
  {
   "cell_type": "markdown",
   "id": "ffc98db1-6dc1-4b82-b035-3340ab4abebb",
   "metadata": {},
   "source": [
    "## CRS and extent \n",
    "\n",
    "CRS = coordinate reference system and it is one of the basic information pieces for geospatial data. \n",
    "\n",
    "We can think of the CRS as instructions to locate each spatial feature of our data frame on the surface of the Earth. "
   ]
  },
  {
   "cell_type": "code",
   "execution_count": 14,
   "id": "45312fbd-eedc-4f5f-9881-23add314ec31",
   "metadata": {
    "tags": []
   },
   "outputs": [
    {
     "data": {
      "text/plain": [
       "<Geographic 2D CRS: EPSG:4326>\n",
       "Name: WGS 84\n",
       "Axis Info [ellipsoidal]:\n",
       "- Lat[north]: Geodetic latitude (degree)\n",
       "- Lon[east]: Geodetic longitude (degree)\n",
       "Area of Use:\n",
       "- name: World.\n",
       "- bounds: (-180.0, -90.0, 180.0, 90.0)\n",
       "Datum: World Geodetic System 1984 ensemble\n",
       "- Ellipsoid: WGS 84\n",
       "- Prime Meridian: Greenwich"
      ]
     },
     "execution_count": 14,
     "metadata": {},
     "output_type": "execute_result"
    }
   ],
   "source": [
    "# Access the CRS of the GeoDataFrame \n",
    "pigs.crs"
   ]
  },
  {
   "cell_type": "markdown",
   "id": "a92196bc-6de7-4a79-9d16-5a3f3760ae9b",
   "metadata": {},
   "source": [
    "CRS: EPSG:4326 is the most common. Used by google earth, the dept. of defense, and most GPS systems.\n",
    "\n",
    "EPSG = European Petroleum Service Group"
   ]
  },
  {
   "cell_type": "code",
   "execution_count": 15,
   "id": "a5073f24-e5c9-41e7-9148-6f317fa770be",
   "metadata": {
    "tags": []
   },
   "outputs": [
    {
     "name": "stdout",
     "output_type": "stream",
     "text": [
      "ellispoid:  WGS 84\n",
      "datum:  World Geodetic System 1984 ensemble\n",
      "is geographic:  True\n",
      "is projected?  False\n"
     ]
    }
   ],
   "source": [
    "# Get more info about the CRS \n",
    "print('ellispoid: ', pigs.crs.ellipsoid)\n",
    "print('datum: ', pigs.crs.datum)\n",
    "print('is geographic: ', pigs.crs.is_geographic)\n",
    "print('is projected? ', pigs.crs.is_projected)"
   ]
  },
  {
   "cell_type": "markdown",
   "id": "411d311b-2f16-457a-96e8-ee9be47c3bd0",
   "metadata": {},
   "source": [
    "**What are the ellipsoid and the datum? What does it tell us about the CRS? **\n",
    "- The shape of the earth to which you allin the datum. Grounding it on the earth. \n",
    "\n",
    "**What does it mean that the CRS is geographic and not projected?** \n",
    "- Geographic is still thinking about the earth as one, 3D. Projected is taking the 3D earth and arranging it on a flat surface.\n",
    "\n",
    "\n",
    "### Extent \n",
    "The **extent** of the geo-dataframe is the bounding box covering all the spatial features in our geo-dataframe. This is formed by finding the points that are furthest west, east, south, and north."
   ]
  },
  {
   "cell_type": "code",
   "execution_count": 16,
   "id": "9db0ff50-2848-4eee-ba79-723fe377efa2",
   "metadata": {
    "tags": []
   },
   "outputs": [
    {
     "data": {
      "text/plain": [
       "array([-124.29448 ,   32.593433, -115.4356  ,   40.934296])"
      ]
     },
     "execution_count": 16,
     "metadata": {},
     "output_type": "execute_result"
    }
   ],
   "source": [
    "# Obtain the geographic extent of the geo-dataframe \n",
    "pigs.total_bounds"
   ]
  },
  {
   "cell_type": "markdown",
   "id": "a7f22451-fd31-42e7-9624-ab9aeeb77797",
   "metadata": {},
   "source": [
    "## Check-in \n",
    "\n",
    "Print the CRS and extent for the CA boundary. Are both dataframes in the same CRS?"
   ]
  },
  {
   "cell_type": "code",
   "execution_count": 17,
   "id": "c5fcd3d9-1916-4779-814e-16b47d08d1c7",
   "metadata": {
    "tags": []
   },
   "outputs": [
    {
     "name": "stdout",
     "output_type": "stream",
     "text": [
      "epsg:4326\n",
      "[-124.48201686   32.52883674 -114.13122248   42.00950827]\n"
     ]
    }
   ],
   "source": [
    "print(ca_boundary.crs)\n",
    "print(ca_boundary.total_bounds)"
   ]
  },
  {
   "cell_type": "code",
   "execution_count": 18,
   "id": "6fa971b8-0838-4bb4-b99a-d797232b3e82",
   "metadata": {
    "tags": []
   },
   "outputs": [
    {
     "data": {
      "text/plain": [
       "True"
      ]
     },
     "execution_count": 18,
     "metadata": {},
     "output_type": "execute_result"
    }
   ],
   "source": [
    "# Check if the CRS matches \n",
    "pigs.crs == ca_boundary.crs"
   ]
  },
  {
   "cell_type": "markdown",
   "id": "b8909c60-0f66-45c7-9619-94193ef20114",
   "metadata": {},
   "source": [
    "## Data wrangling\n",
    "\n",
    "`GeoPandas` is conveniently built on top of `pandas`, so we may use everything we have learned about data selection, wrangling, and modification for a `pandas.DataFrame` to wrange `geopandas.GeoDataFrames`.\n",
    "\n",
    "Ex. \n",
    "\n",
    "We only want to use recent data for wild pig observations "
   ]
  },
  {
   "cell_type": "code",
   "execution_count": 19,
   "id": "6d18dfc6-374a-41ba-b066-dadac63c3cf8",
   "metadata": {
    "tags": []
   },
   "outputs": [
    {
     "data": {
      "text/plain": [
       "1818.0     31\n",
       "1910.0      1\n",
       "1925.0      1\n",
       "1927.0      4\n",
       "1929.0      3\n",
       "         ... \n",
       "2019.0    101\n",
       "2020.0    159\n",
       "2021.0    164\n",
       "2022.0    185\n",
       "2023.0     98\n",
       "Name: year, Length: 61, dtype: int64"
      ]
     },
     "execution_count": 19,
     "metadata": {},
     "output_type": "execute_result"
    }
   ],
   "source": [
    "# Examine pig observation by year\n",
    "# value_counts() counts the amount of observations per year\n",
    "# sort_index() orders the years \n",
    "pigs['year'].value_counts().sort_index()"
   ]
  },
  {
   "cell_type": "code",
   "execution_count": 22,
   "id": "158d09b4-6ecc-4a7a-abac-afaf3e7b9fdd",
   "metadata": {
    "tags": []
   },
   "outputs": [
    {
     "name": "stdout",
     "output_type": "stream",
     "text": [
      "Total num of obs:  1046\n",
      "Number of obs since 2020:  606\n"
     ]
    }
   ],
   "source": [
    "# Select data from 2020 onwards \n",
    "pigs_recent = pigs[pigs.year>= 2020]\n",
    "\n",
    "# Check the length of orginial data frame\n",
    "print('Total num of obs: ', len(pigs))\n",
    "\n",
    "# Check length of new data frame \n",
    "print('Number of obs since 2020: ', len(pigs_recent))"
   ]
  },
  {
   "cell_type": "markdown",
   "id": "e63ec279-8c7c-4d64-a5f3-d0bafdeffd5b",
   "metadata": {},
   "source": [
    "## Create a map \n",
    "\n",
    "Similarly to a `pandas.DataFrame`, a `geopandas.GeoDataFrame` has a `plot()` method that we can call directly to create a quick view of our data. The geospatial information of the geopandas.GeoDataFrame will be used to create the axes of the plot."
   ]
  },
  {
   "cell_type": "code",
   "execution_count": 23,
   "id": "03dbde9a-4589-40b7-a386-d3eb7c35f07e",
   "metadata": {
    "tags": []
   },
   "outputs": [
    {
     "data": {
      "text/plain": [
       "<AxesSubplot:>"
      ]
     },
     "execution_count": 23,
     "metadata": {},
     "output_type": "execute_result"
    },
    {
     "data": {
      "image/png": "[encoded data removed]",
      "text/plain": [
       "<Figure size 640x480 with 1 Axes>"
      ]
     },
     "metadata": {},
     "output_type": "display_data"
    }
   ],
   "source": [
    "# Look at the recent dataframe \n",
    "pigs_recent.plot()"
   ]
  },
  {
   "cell_type": "markdown",
   "id": "ec31124a-26b7-464e-b95d-a9b44ebdc791",
   "metadata": {},
   "source": [
    "## `matplotlib`’s `fig` and `ax`\n",
    "\n",
    "Matplotlib graphs the data in a **figure** which can have one or more **axes**. \n",
    "\n",
    "The axes is only the area specified by the *x* axis and *y* axis and what is plotted in it, while the figure can icnlude multiple axes in it.\n",
    "\n",
    "\n",
    "To create a new blank figure:\n",
    "\n",
    "1. Initialize a new figure and axes by calling pyplot’s `subplots()` function.\n",
    "2. Show the graph using plt.show():"
   ]
  },
  {
   "cell_type": "code",
   "execution_count": 24,
   "id": "459b387c-0ec2-4bb3-bc5d-abc0bd547348",
   "metadata": {
    "tags": []
   },
   "outputs": [
    {
     "data": {
      "image/png": "[encoded data removed]",
      "text/plain": [
       "<Figure size 640x480 with 1 Axes>"
      ]
     },
     "metadata": {},
     "output_type": "display_data"
    }
   ],
   "source": [
    "# 1. Initialize empty figure (fig) and axis (ax)\n",
    "fig, ax = plt.subplots()\n",
    "\n",
    "# Display figure\n",
    "plt.show()"
   ]
  },
  {
   "cell_type": "markdown",
   "id": "31cb2d19-4233-4a24-890b-648428ea8b20",
   "metadata": {},
   "source": [
    "## Adding a layer \n",
    "\n",
    "When using `matplotlib`, it can be useful to think of creating a plot as adding layers to an axis. The general syntax to plot a datafram `df` onto an axis is:"
   ]
  },
  {
   "cell_type": "code",
   "execution_count": 29,
   "id": "c98aeb35-0a7a-46e5-a702-6a66ea2fcb1f",
   "metadata": {
    "tags": []
   },
   "outputs": [
    {
     "data": {
      "image/png": "[encoded data removed]",
      "text/plain": [
       "<Figure size 640x480 with 1 Axes>"
      ]
     },
     "metadata": {},
     "output_type": "display_data"
    }
   ],
   "source": [
    "# Initialize empty figure and axis\n",
    "fig, ax = plt.subplots()\n",
    "\n",
    "# Add CA boundary \n",
    "ca_boundary.plot(ax=ax,\n",
    "                color ='none',\n",
    "                edgecolor='black')\n",
    "\n",
    "# Plot pig points \n",
    "pigs_recent.plot(ax=ax,\n",
    "                alpha=0.5) \n",
    "\n",
    "# Customization \n",
    "ax.set_title('Reported \"Sus scrofa\" sightings in CA (2020-2023)')\n",
    "ax.set_xlabel('Longitude')\n",
    "ax.set_ylabel('Latitude')\n",
    "\n",
    "# Display figure\n",
    "plt.show()"
   ]
  },
  {
   "cell_type": "code",
   "execution_count": null,
   "id": "9f7a7cb8-8074-48b0-bb78-fa652c79b578",
   "metadata": {},
   "outputs": [],
   "source": []
  }
 ],
 "metadata": {
  "kernelspec": {
   "display_name": "Anaconda 3 (Base)",
   "language": "python",
   "name": "base"
  },
  "language_info": {
   "codemirror_mode": {
    "name": "ipython",
    "version": 3
   },
   "file_extension": ".py",
   "mimetype": "text/x-python",
   "name": "python",
   "nbconvert_exporter": "python",
   "pygments_lexer": "ipython3",
   "version": "3.9.13"
  }
 },
 "nbformat": 4,
 "nbformat_minor": 5
}
