{
 "cells": [
  {
   "cell_type": "markdown",
   "id": "c3b256fd-769d-4ceb-96cd-fc227d3da7a2",
   "metadata": {},
   "source": [
    "# Python Review \n",
    "\n",
    "Short review about some core concepts in python exemplified by objects in the numpy library. \n",
    "\n",
    "- recall basic python vocab \n",
    "- practice markdown syntax \n",
    "\n",
    "## Libraries and packages \n",
    "\n",
    "**library:** is a collection of code that we can use to preform specific tasks in our programs. It can be a single file of multiple files. \n",
    "\n",
    "**Numpy** \n",
    "- core library for numerical computing in python \n",
    "- many of libraries use Numpy arrays as their bulding blocks \n",
    "- optimized for speed and memory usage. \n",
    "\n",
    "Let's import NumPy with its **standard abbreviation** `np`: \n"
   ]
  },
  {
   "cell_type": "code",
   "execution_count": 1,
   "id": "8c2093e9-beca-411a-91b5-64e40ec1f1bf",
   "metadata": {
    "tags": []
   },
   "outputs": [],
   "source": [
    "import numpy as np"
   ]
  },
  {
   "cell_type": "markdown",
   "id": "d895b9e0-2ad5-47ef-9778-718212cac14b",
   "metadata": {},
   "source": [
    "(esc + M twice = switch from code to markdown) \n",
    "\n",
    "## Variables \n",
    "- a name we assign to a particular object in Python \n",
    "\n",
    "Example: "
   ]
  },
  {
   "cell_type": "code",
   "execution_count": 2,
   "id": "3844cd67-f0fd-4b6e-abc0-d96753349efe",
   "metadata": {
    "tags": []
   },
   "outputs": [],
   "source": [
    "# Assign a small array to variable a \n",
    "a = np.array([[1,1,2], [3,5,8]])\n",
    "\n",
    "# need the double bracket "
   ]
  },
  {
   "cell_type": "markdown",
   "id": "b09e9b7c-cba0-4617-ba26-593c8b73ea97",
   "metadata": {},
   "source": [
    "To view a variable's value from our Jupyter notebook "
   ]
  },
  {
   "cell_type": "code",
   "execution_count": 3,
   "id": "7967c59f-3692-4089-9c28-1126b339f90c",
   "metadata": {
    "tags": []
   },
   "outputs": [
    {
     "data": {
      "text/plain": [
       "array([[1, 1, 2],\n",
       "       [3, 5, 8]])"
      ]
     },
     "execution_count": 3,
     "metadata": {},
     "output_type": "execute_result"
    }
   ],
   "source": [
    "# run cell with variable name to show value \n",
    "a"
   ]
  },
  {
   "cell_type": "code",
   "execution_count": 4,
   "id": "070cdd93-659b-4db1-ae56-cf1133b11b48",
   "metadata": {
    "tags": []
   },
   "outputs": [
    {
     "name": "stdout",
     "output_type": "stream",
     "text": [
      "[[1 1 2]\n",
      " [3 5 8]]\n"
     ]
    }
   ],
   "source": [
    "# Use print function to print the value \n",
    "print(a)"
   ]
  },
  {
   "cell_type": "markdown",
   "id": "a382474b-384b-4c67-b527-dc001bfe5566",
   "metadata": {},
   "source": [
    "## Convention: Use `snake_case` for naming variables.\n",
    "\n",
    "This si the convention we will use in thie course. Why? PEP 8 - style guide for Python code recommends snale_case \n",
    "\n",
    "**Remember tthat variable names should both be descriptive and concise!**\n",
    "\n",
    "## Objects \n",
    "\n",
    "**object* is a bundle of *properties* and *actions* about something specific \n",
    "\n",
    "Object: data frame \n",
    "Properties: number of rows, names of columns, and date created\n",
    "Actions: Selecting a specific row or adding a new column \n",
    "\n",
    "A variable is the name we give a specific object, and the same object can be referenced by different variables \n",
    "\n",
    "In practice, we can often use the word variable and oject interchangeably. \n",
    "\n",
    "## Types \n",
    "\n",
    "Every object in Python has a **type**, the type tells us what kind of object we have. \n",
    "We can also call the type of an object, the **class** of an object. So class and object both mean the kind of object we have \n"
   ]
  },
  {
   "cell_type": "code",
   "execution_count": 5,
   "id": "e8c1dc19-e203-4a39-b52a-5d3b23b9941f",
   "metadata": {
    "tags": []
   },
   "outputs": [
    {
     "name": "stdout",
     "output_type": "stream",
     "text": [
      "[[1 1 2]\n",
      " [3 5 8]]\n"
     ]
    }
   ],
   "source": [
    "print(a)"
   ]
  },
  {
   "cell_type": "code",
   "execution_count": 6,
   "id": "6ee8ee69-4394-439d-a0f6-8da0fe8fca52",
   "metadata": {
    "tags": []
   },
   "outputs": [
    {
     "data": {
      "text/plain": [
       "numpy.ndarray"
      ]
     },
     "execution_count": 6,
     "metadata": {},
     "output_type": "execute_result"
    }
   ],
   "source": [
    "# See the type/class of a variable \n",
    "type(a)"
   ]
  },
  {
   "cell_type": "code",
   "execution_count": 7,
   "id": "c5d13e20-1109-4042-8ccc-5e32eb8b51a5",
   "metadata": {
    "tags": []
   },
   "outputs": [
    {
     "name": "stdout",
     "output_type": "stream",
     "text": [
      "1\n"
     ]
    },
    {
     "data": {
      "text/plain": [
       "numpy.int64"
      ]
     },
     "execution_count": 7,
     "metadata": {},
     "output_type": "execute_result"
    }
   ],
   "source": [
    "print(a[0,0])\n",
    "type(a[0,0])"
   ]
  },
  {
   "cell_type": "markdown",
   "id": "f1c29668-07ed-40e3-b2ce-e5d679e8752a",
   "metadata": {},
   "source": [
    "`numpy.int64` is not the standard Python interger type `int`. \n",
    "\n",
    "This is a special data type in Numpy telling us that 1 is an inter stored as a 64-bit number. "
   ]
  },
  {
   "cell_type": "code",
   "execution_count": 10,
   "id": "2a7e548c-d4ad-46f6-9179-28fd168b398b",
   "metadata": {
    "tags": []
   },
   "outputs": [
    {
     "name": "stdout",
     "output_type": "stream",
     "text": [
      "5\n"
     ]
    }
   ],
   "source": [
    "# access the value 5 in array `a`\n",
    "print(a[1,1])"
   ]
  },
  {
   "cell_type": "markdown",
   "id": "e833fb26-5b63-4987-9dc3-51de9beae38b",
   "metadata": {},
   "source": [
    "## Functions \n",
    "\n",
    "`print` was ur first example of a python **function** \n",
    "\n",
    "Functions take in a set of **arguments**, seperated by commas, and use those arguments to create an **output**. \n",
    "\n",
    "In the course we'll be using argument and parameter interchangeably. But they do have slightly different meanings.\n"
   ]
  },
  {
   "cell_type": "code",
   "execution_count": 11,
   "id": "83cce9d2-1ba7-42b5-b58f-dad2bbcb92c8",
   "metadata": {
    "tags": []
   },
   "outputs": [
    {
     "data": {
      "text/plain": [
       "\u001b[0;31mDocstring:\u001b[0m\n",
       "print(value, ..., sep=' ', end='\\n', file=sys.stdout, flush=False)\n",
       "\n",
       "Prints the values to a stream, or to sys.stdout by default.\n",
       "Optional keyword arguments:\n",
       "file:  a file-like object (stream); defaults to the current sys.stdout.\n",
       "sep:   string inserted between values, default a space.\n",
       "end:   string appended after the last value, default a newline.\n",
       "flush: whether to forcibly flush the stream.\n",
       "\u001b[0;31mType:\u001b[0m      builtin_function_or_method\n"
      ]
     },
     "metadata": {},
     "output_type": "display_data"
    }
   ],
   "source": [
    "?print"
   ]
  },
  {
   "cell_type": "markdown",
   "id": "e6d95b5b-490b-4fce-8b47-17e9f7f13033",
   "metadata": {},
   "source": [
    "What we obtains is a **docsting**, a special type of comment that is used to document how a function (or a class, or module) works. \n",
    "\n",
    "Roughly speaking a function has two types of arguments: \n",
    "\n",
    "- non-optional arguments: you have to specify for the function to work \n",
    "- optional arguments: are pre-filled with a default vlaue by the function, but you can override them. Appear inside the () in the form 'optional_argument = default_value'.\n",
    "\n",
    "Example\n",
    "\n",
    "`end` is a parameter in `print` with the default value a new line \n",
    "We can pass the value `:-)` to this paqramter so that is finsihes the line with that instead "
   ]
  },
  {
   "cell_type": "code",
   "execution_count": 12,
   "id": "cbb1dd78-aef7-4a7f-b762-d3d0d168a5d1",
   "metadata": {
    "tags": []
   },
   "outputs": [
    {
     "name": "stdout",
     "output_type": "stream",
     "text": [
      "Change the paramter:-)"
     ]
    }
   ],
   "source": [
    "print('Change the paramter', end=':-)')"
   ]
  },
  {
   "cell_type": "markdown",
   "id": "971d5de5-1f90-4ef6-8811-29b21a04b6e2",
   "metadata": {},
   "source": [
    "## Attribute and methods \n",
    "\n",
    "An object in Python has atrributes and methods. \n",
    "\n",
    "- attributes: a property of the object, some piece of info about it. \n",
    "- method: a procedure assoicated with an oject, so it is an action where the main ingredient is the object itself. \n",
    "\n",
    "## Check in \n",
    "\n",
    "Make diagram like the cat one, for a class `fish`\n",
    "\n",
    "Attributes\n",
    "- species \n",
    "- color \n",
    "- length \n",
    "- weight \n",
    "\n",
    "Methods\n",
    "- swim()\n",
    "- eat()\n",
    "- spawn()\n",
    "\n",
    "\n",
    "Example\n",
    "\n",
    "Numpy arrays have many methods and attributes. "
   ]
  },
  {
   "cell_type": "code",
   "execution_count": 13,
   "id": "4214af58-cd50-4054-8809-0c2b693699a7",
   "metadata": {
    "tags": []
   },
   "outputs": [
    {
     "data": {
      "text/plain": [
       "array([[1, 1, 2],\n",
       "       [3, 5, 8]])"
      ]
     },
     "execution_count": 13,
     "metadata": {},
     "output_type": "execute_result"
    }
   ],
   "source": [
    "a "
   ]
  },
  {
   "cell_type": "code",
   "execution_count": 14,
   "id": "17f5645d-ed1a-4142-b834-642b57c84b75",
   "metadata": {
    "tags": []
   },
   "outputs": [
    {
     "name": "stdout",
     "output_type": "stream",
     "text": [
      "[[1 3]\n",
      " [1 5]\n",
      " [2 8]]\n"
     ]
    }
   ],
   "source": [
    "# T is an example of an attribute, it returns the transpose of array. \n",
    "print(a.T)"
   ]
  },
  {
   "cell_type": "code",
   "execution_count": 15,
   "id": "58661d87-199c-47cb-bee8-6f8349da2da1",
   "metadata": {
    "tags": []
   },
   "outputs": [
    {
     "data": {
      "text/plain": [
       "numpy.ndarray"
      ]
     },
     "execution_count": 15,
     "metadata": {},
     "output_type": "execute_result"
    }
   ],
   "source": [
    "type(a.T)"
   ]
  },
  {
   "cell_type": "code",
   "execution_count": 17,
   "id": "e1bc5e77-f02a-4c53-86d1-a25ac6ff8e22",
   "metadata": {
    "tags": []
   },
   "outputs": [
    {
     "name": "stdout",
     "output_type": "stream",
     "text": [
      "(2, 3)\n",
      "<class 'tuple'>\n"
     ]
    }
   ],
   "source": [
    "# shape is another attribute that tells us the shape of the array \n",
    "print(a.shape)\n",
    "print(type(a.shape))"
   ]
  },
  {
   "cell_type": "code",
   "execution_count": 18,
   "id": "8ca82e08-33d9-44a4-9d4b-e2ab95ba6465",
   "metadata": {
    "tags": []
   },
   "outputs": [
    {
     "name": "stdout",
     "output_type": "stream",
     "text": [
      "2\n",
      "<class 'int'>\n"
     ]
    }
   ],
   "source": [
    "# ndim is an attribute holding the number of array dimensions\n",
    "\n",
    "print(a.ndim)\n",
    "print(type(a.ndim))"
   ]
  },
  {
   "cell_type": "markdown",
   "id": "af4e36d4-1fc6-476d-b877-4c01eb0cc057",
   "metadata": {},
   "source": [
    "Attributes can have many different data types. \n",
    "\n",
    "Some examples of methods "
   ]
  },
  {
   "cell_type": "code",
   "execution_count": 19,
   "id": "8c70e0b3-8c66-4fcd-8d03-bddef58c610b",
   "metadata": {
    "tags": []
   },
   "outputs": [
    {
     "name": "stdout",
     "output_type": "stream",
     "text": [
      "[[1 1 2]\n",
      " [3 5 8]]\n"
     ]
    },
    {
     "data": {
      "text/plain": [
       "array([1, 1, 2])"
      ]
     },
     "execution_count": 19,
     "metadata": {},
     "output_type": "execute_result"
    }
   ],
   "source": [
    "# the min method returns the minimum value in the array along a specified axis. \n",
    "print(a)\n",
    "a.min(axis=0)"
   ]
  },
  {
   "cell_type": "code",
   "execution_count": 20,
   "id": "c7511e30-fa6e-4068-a28f-98e9e242849a",
   "metadata": {
    "tags": []
   },
   "outputs": [
    {
     "data": {
      "text/plain": [
       "1"
      ]
     },
     "execution_count": 20,
     "metadata": {},
     "output_type": "execute_result"
    }
   ],
   "source": [
    "# run without axis \n",
    "a.min()"
   ]
  },
  {
   "cell_type": "markdown",
   "id": "fe7626cf-760a-416f-aa00-f1a7f5f687b7",
   "metadata": {},
   "source": [
    "## Exercise \n",
    "\n",
    "1. Read the `print` function help. What is the type of the argument `sep`? Is this a default or non-default argument? Why? \n",
    "\n",
    "2. Create twop new variables, one with the interger value 77 and another one with the string 99. \n",
    "\n",
    "3. Use your variables to print 77%99%77 by changeing the value of one of the default argeumnts in 'print'"
   ]
  },
  {
   "cell_type": "code",
   "execution_count": 21,
   "id": "2bc0c6dd-27fb-4af8-872c-729a0b2f4f4b",
   "metadata": {
    "tags": []
   },
   "outputs": [
    {
     "name": "stdout",
     "output_type": "stream",
     "text": [
      "Help on built-in function print in module builtins:\n",
      "\n",
      "print(...)\n",
      "    print(value, ..., sep=' ', end='\\n', file=sys.stdout, flush=False)\n",
      "    \n",
      "    Prints the values to a stream, or to sys.stdout by default.\n",
      "    Optional keyword arguments:\n",
      "    file:  a file-like object (stream); defaults to the current sys.stdout.\n",
      "    sep:   string inserted between values, default a space.\n",
      "    end:   string appended after the last value, default a newline.\n",
      "    flush: whether to forcibly flush the stream.\n",
      "\n"
     ]
    }
   ],
   "source": [
    "help(print)\n",
    "# `sep` is a method that seperates the text, default is a space. "
   ]
  },
  {
   "cell_type": "code",
   "execution_count": 23,
   "id": "523c45c0-7535-4f39-afda-d3d208851d4b",
   "metadata": {
    "tags": []
   },
   "outputs": [],
   "source": [
    "a = 77 # interger \n",
    "b = '99' # string "
   ]
  },
  {
   "cell_type": "code",
   "execution_count": 25,
   "id": "fcfb357f-281a-4c20-b9be-3d7aa68547d1",
   "metadata": {
    "tags": []
   },
   "outputs": [
    {
     "name": "stdout",
     "output_type": "stream",
     "text": [
      "77%99%77\n"
     ]
    }
   ],
   "source": [
    "print(a, b, a, sep='%')"
   ]
  },
  {
   "cell_type": "code",
   "execution_count": null,
   "id": "0b63be64-ca97-4608-983d-0e4f7171ccb2",
   "metadata": {},
   "outputs": [],
   "source": []
  }
 ],
 "metadata": {
  "kernelspec": {
   "display_name": "Anaconda 3 (Base)",
   "language": "python",
   "name": "base"
  },
  "language_info": {
   "codemirror_mode": {
    "name": "ipython",
    "version": 3
   },
   "file_extension": ".py",
   "mimetype": "text/x-python",
   "name": "python",
   "nbconvert_exporter": "python",
   "pygments_lexer": "ipython3",
   "version": "3.9.13"
  }
 },
 "nbformat": 4,
 "nbformat_minor": 5
}
